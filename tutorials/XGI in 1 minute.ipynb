{
 "cells": [
  {
   "attachments": {},
   "cell_type": "markdown",
   "metadata": {},
   "source": [
    "# XGI in 1 minute 🚀\n",
    "\n",
    "Hello! 👋\n",
    "\n",
    "Let's dive right in and import our XGI library. We just need to execute the following code snippet:"
   ]
  },
  {
   "cell_type": "code",
   "execution_count": 1,
   "metadata": {},
   "outputs": [],
   "source": [
    "import xgi"
   ]
  },
  {
   "attachments": {},
   "cell_type": "markdown",
   "metadata": {},
   "source": [
    "Now we're ready to start using XGI!\n",
    "\n",
    "## Creating a Hypergraph\n",
    "\n",
    "You have the flexibility to create a hypergraph from various data structures. One of the simplest ways is by using a list of hyperedges. Check out this code snippet:"
   ]
  },
  {
   "cell_type": "code",
   "execution_count": 2,
   "metadata": {},
   "outputs": [],
   "source": [
    "hyperedges = [[1,2,3],[3,4],[4,5,6,7]]\n",
    "H = xgi.Hypergraph(hyperedges)"
   ]
  },
  {
   "attachments": {},
   "cell_type": "markdown",
   "metadata": {},
   "source": [
    "## Adding Nodes and Hyperedges\n",
    "\n",
    "Once you have a hypergraph, you can start adding single nodes and hyperedges using these convenient functions:"
   ]
  },
  {
   "cell_type": "code",
   "execution_count": 3,
   "metadata": {},
   "outputs": [],
   "source": [
    "H.add_node(8)\n",
    "H.add_edge([7,8])"
   ]
  },
  {
   "attachments": {},
   "cell_type": "markdown",
   "metadata": {},
   "source": [
    "If you want to add multiple nodes or hyperedges at once, XGI has got you covered:"
   ]
  },
  {
   "cell_type": "code",
   "execution_count": 4,
   "metadata": {},
   "outputs": [],
   "source": [
    "H.add_nodes_from([9,10])\n",
    "H.add_edges_from([[1,10], [8,9,10]])"
   ]
  },
  {
   "attachments": {},
   "cell_type": "markdown",
   "metadata": {},
   "source": [
    "## Visualizing Your Hypergraph\n",
    "\n",
    "Visualization is key to understanding complex data structures. With XGI, you can effortlessly plot your hypergraph using the default drawing setup:"
   ]
  },
  {
   "cell_type": "code",
   "execution_count": 5,
   "metadata": {},
   "outputs": [
    {
     "data": {
      "text/plain": [
       "<Axes: >"
      ]
     },
     "execution_count": 5,
     "metadata": {},
     "output_type": "execute_result"
    },
    {
     "data": {
      "image/png": "[encoded data removed]",
      "text/plain": [
       "<Figure size 640x480 with 1 Axes>"
      ]
     },
     "metadata": {},
     "output_type": "display_data"
    }
   ],
   "source": [
    "xgi.draw(H)"
   ]
  },
  {
   "attachments": {},
   "cell_type": "markdown",
   "metadata": {},
   "source": [
    " For more options, explore the [focus tutorial on plotting](https://github.com/xgi-org/xgi/blob/main/tutorials/Tutorial%205%20-%20Plotting.ipynb) or consult the [documentation](https://xgi.readthedocs.io/en/stable/api/drawing.html)!"
   ]
  },
  {
   "attachments": {},
   "cell_type": "markdown",
   "metadata": {},
   "source": [
    "## Exploring Hypergraph Details\n",
    "\n",
    "XGI provides handy functions to gain insights into your hypergraph. For a quick summary, simply print the hypergraph:"
   ]
  },
  {
   "cell_type": "code",
   "execution_count": 6,
   "metadata": {},
   "outputs": [
    {
     "name": "stdout",
     "output_type": "stream",
     "text": [
      "Unnamed Hypergraph with 10 nodes and 6 hyperedges\n"
     ]
    }
   ],
   "source": [
    "print(H)"
   ]
  },
  {
   "attachments": {},
   "cell_type": "markdown",
   "metadata": {},
   "source": [
    "You can also access the number of nodes and hyperedges easily:"
   ]
  },
  {
   "cell_type": "code",
   "execution_count": 7,
   "metadata": {},
   "outputs": [
    {
     "name": "stdout",
     "output_type": "stream",
     "text": [
      "10\n",
      "6\n"
     ]
    }
   ],
   "source": [
    "print(H.num_nodes)\n",
    "print(H.num_edges)"
   ]
  },
  {
   "attachments": {},
   "cell_type": "markdown",
   "metadata": {},
   "source": [
    "And if you're curious about all the hyperedges in your hypergraph, you can retrieve them as a list:"
   ]
  },
  {
   "cell_type": "code",
   "execution_count": 8,
   "metadata": {},
   "outputs": [
    {
     "data": {
      "text/plain": [
       "[{1, 2, 3}, {3, 4}, {4, 5, 6, 7}, {7, 8}, {1, 10}, {8, 9, 10}]"
      ]
     },
     "execution_count": 8,
     "metadata": {},
     "output_type": "execute_result"
    }
   ],
   "source": [
    "H.edges.members()"
   ]
  },
  {
   "attachments": {},
   "cell_type": "markdown",
   "metadata": {},
   "source": [
    "## Wrapping Up\n",
    "\n",
    "⏰ Time flies! Don't forget to check out tutorials [here](https://github.com/xgi-org/xgi/tree/main/tutorials)!. And guess what? XGI doesn't stop at hypergraphs — it can handle [simplicial complexes](https://xgi.readthedocs.io/en/stable/api/core/xgi.core.simplicialcomplex.SimplicialComplex.html) and [directed hypergraphs](https://xgi.readthedocs.io/en/stable/api/core/xgi.core.dihypergraph.DiHypergraph.html) too!"
   ]
  }
 ],
 "metadata": {
  "kernelspec": {
   "display_name": "base",
   "language": "python",
   "name": "python3"
  },
  "language_info": {
   "codemirror_mode": {
    "name": "ipython",
    "version": 3
   },
   "file_extension": ".py",
   "mimetype": "text/x-python",
   "name": "python",
   "nbconvert_exporter": "python",
   "pygments_lexer": "ipython3",
   "version": "3.9.13"
  },
  "orig_nbformat": 4
 },
 "nbformat": 4,
 "nbformat_minor": 2
}
